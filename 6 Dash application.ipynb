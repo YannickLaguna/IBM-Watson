{
 "cells": [
  {
   "cell_type": "code",
   "execution_count": null,
   "metadata": {},
   "outputs": [
    {
     "ename": "",
     "evalue": "",
     "output_type": "error",
     "traceback": [
      "\u001b[1;31mLa ejecución de celdas con 'base' requieren el paquete ipykernel.\n",
      "\u001b[1;31mEjecute el siguiente comando para instalar 'ipykernel' en el entorno de Python. comando \n",
      "\u001b[1;31m: 'conda install -n base ipykernel --update-deps --force-reinstall'"
     ]
    }
   ],
   "source": [
    "from dash import Dash, dcc, html, Input, Output\n",
    "import pandas as pd\n",
    "import plotly.express as px\n",
    "import plotly.graph_objects as go\n"
   ]
  },
  {
   "cell_type": "code",
   "execution_count": null,
   "metadata": {},
   "outputs": [
    {
     "ename": "",
     "evalue": "",
     "output_type": "error",
     "traceback": [
      "\u001b[1;31mLa ejecución de celdas con 'base' requieren el paquete ipykernel.\n",
      "\u001b[1;31mEjecute el siguiente comando para instalar 'ipykernel' en el entorno de Python. comando \n",
      "\u001b[1;31m: 'conda install -n base ipykernel --update-deps --force-reinstall'"
     ]
    }
   ],
   "source": [
    "URL = 'https://cf-courses-data.s3.us.cloud-object-storage.appdomain.cloud/IBM-DS0321EN-SkillsNetwork/datasets/spacex_launch_geo.csv'\n",
    "df_spacex = pd.read_csv(URL)"
   ]
  },
  {
   "cell_type": "code",
   "execution_count": null,
   "metadata": {},
   "outputs": [
    {
     "ename": "",
     "evalue": "",
     "output_type": "error",
     "traceback": [
      "\u001b[1;31mLa ejecución de celdas con 'base' requieren el paquete ipykernel.\n",
      "\u001b[1;31mEjecute el siguiente comando para instalar 'ipykernel' en el entorno de Python. comando \n",
      "\u001b[1;31m: 'conda install -n base ipykernel --update-deps --force-reinstall'"
     ]
    }
   ],
   "source": [
    "# dropdown menu to choose from the various sites:\n",
    "app = Dash(__name__)\n",
    "\n",
    "app.layout = html.Div(children = [\n",
    "    html.Div([\n",
    "        html.H1('SpaceX Launch Records Dashboard', \n",
    "                style = {'textAlign': 'center',\n",
    "                         'color': 'black',\n",
    "                         'font-size': 24}),\n",
    "        html.P('Dropdown:'),\n",
    "        dcc.Dropdown(id = 'site-dropdown',\n",
    "                     options = [{'label': 'All Sites',    'value': 'ALL'},\n",
    "                                {'label': 'CCAFS SCL-40', 'value': 'CCAFS SLC-40'},\n",
    "                                {'label': 'CCAFS LC-40',  'value': 'CCAFS LC-40'},\n",
    "                                {'label': 'VAFB SLC-4E',  'value': 'VAFB SLC-4E'},\n",
    "                                {'label': 'KSC LC-39A',   'value': 'KSC LC-39A'}],\n",
    "                                value = 'ALL',\n",
    "                                placeholder = 'Select a site',\n",
    "                                searchable = True),\n",
    "            ]),\n",
    "    html.Div([\n",
    "        html.Br(),\n",
    "        dcc.Graph(id = 'pie-chart'),\n",
    "        html.Br(),\n",
    "        html.P('Payload range slider (kg):'),\n",
    "        dcc.RangeSlider(id = 'payload-slider', \n",
    "                        min = df_spacex['Payload Mass (kg)'].min(),\n",
    "                        max = df_spacex['Payload Mass (kg)'].max(),\n",
    "                        step = 1000,\n",
    "                        marks = {0: '0',\n",
    "                                100: '100'},\n",
    "                        value = [2000, 8000]),\n",
    "        html.Br(),\n",
    "        dcc.Graph(id = 'payload-scatter-chart')\n",
    "            ])\n",
    "                                    ])"
   ]
  },
  {
   "attachments": {},
   "cell_type": "markdown",
   "metadata": {},
   "source": [
    "Through adding the callback function, Dash will automatically be called and the output will be varied depending on what the user inputs."
   ]
  },
  {
   "cell_type": "code",
   "execution_count": null,
   "metadata": {},
   "outputs": [
    {
     "ename": "",
     "evalue": "",
     "output_type": "error",
     "traceback": [
      "\u001b[1;31mLa ejecución de celdas con 'base' requieren el paquete ipykernel.\n",
      "\u001b[1;31mEjecute el siguiente comando para instalar 'ipykernel' en el entorno de Python. comando \n",
      "\u001b[1;31m: 'conda install -n base ipykernel --update-deps --force-reinstall'"
     ]
    }
   ],
   "source": [
    "# function decorator to specify function input and output\n",
    "@app.callback(Output('pie-chart', 'figure'),\n",
    "              Output('payload-scatter-chart', 'figure'),\n",
    "              Input('site-dropdown', 'value'),\n",
    "              Input('payload-slider', 'value'))\n",
    "\n",
    "def get_pie_chart(entered_site, payload):\n",
    "    if entered_site == 'ALL':\n",
    "        fig = px.pie(df_spacex, values = 'class', names = 'Launch Site',\n",
    "                     title = 'Successful Launch Distribution by Site')\n",
    "    else:\n",
    "        # choose the rows that have the same launch site as the one entered\n",
    "        df_filtered = df_spacex.loc[df_spacex['Launch Site'] == entered_site]\n",
    "        \n",
    "        fig = px.pie(df_filtered, names = 'class',\n",
    "                     title = 'Launch Distribution for ' + entered_site)\n",
    "    return fig\n",
    "    \n",
    "def get_scatter_chart(entered_site, payload):\n",
    "    # expand equals True to return a data frame\n",
    "    # with seperated strings in different columns\n",
    "    df_split = df_spacex['Booster Version'].str.split(' ', expand = True)\n",
    "\n",
    "    # save the modified data frame\n",
    "    df_mod = df_spacex.drop(columns = ['Booster Version'], inplace = False)\n",
    "    df_mod['Booster Version'] = df_split[1]\n",
    "    print(payload)\n",
    "    # based on the input payload range choose the corresponding rows\n",
    "    df_mod = df_mod.loc[(df_mod['Payload Mass (kg)'] >= payload[0]) & (df_mod['Payload Mass (kg)'] <= payload[1])]\n",
    "\n",
    "    if entered_site == 'ALL':\n",
    "        fig = px.scatter(df_mod,\n",
    "                         x = 'Payload Mass (kg)', \n",
    "                         y = 'class',\n",
    "                         color = 'Booster Version',\n",
    "                         hover_data = ['Booster Version']) \n",
    "    else:\n",
    "        df_filtered = df_mod.loc[df_mod['Launch Site'] == entered_site]\n",
    "        \n",
    "        fig = px.scatter(df_filtered,\n",
    "                         x = 'Payload Mass (kg)', \n",
    "                         y = 'class',\n",
    "                         color = 'Booster Version',\n",
    "                         hover_data = ['Booster Version'])         \n",
    "    return fig\n",
    "    \n",
    "if __name__ == '__main__':\n",
    "    app.run_server(debug = True, use_reloader = False)"
   ]
  }
 ],
 "metadata": {
  "kernelspec": {
   "display_name": "base",
   "language": "python",
   "name": "python3"
  },
  "language_info": {
   "name": "python",
   "version": "3.9.13 (main, Aug 25 2022, 23:51:50) [MSC v.1916 64 bit (AMD64)]"
  },
  "orig_nbformat": 4,
  "vscode": {
   "interpreter": {
    "hash": "0d18f53f9c896a2b8bb565adf491d4ea47a0151f3ca6dbc95552d117e45cb145"
   }
  }
 },
 "nbformat": 4,
 "nbformat_minor": 2
}
